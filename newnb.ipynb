{
 "cells": [
  {
   "cell_type": "code",
   "execution_count": 1,
   "metadata": {},
   "outputs": [
    {
     "name": "stdout",
     "output_type": "stream",
     "text": [
      "this is a new jupiter notebook in vs\n"
     ]
    }
   ],
   "source": [
    "print(\"this is a new jupiter notebook in vs\")"
   ]
  },
  {
   "cell_type": "code",
   "execution_count": 57,
   "metadata": {},
   "outputs": [
    {
     "ename": "IndentationError",
     "evalue": "unindent does not match any outer indentation level (<string>, line 25)",
     "output_type": "error",
     "traceback": [
      "\u001b[1;36m  File \u001b[1;32m<string>:25\u001b[1;36m\u001b[0m\n\u001b[1;33m    if c>=1:\u001b[0m\n\u001b[1;37m            ^\u001b[0m\n\u001b[1;31mIndentationError\u001b[0m\u001b[1;31m:\u001b[0m unindent does not match any outer indentation level\n"
     ]
    }
   ],
   "source": [
    "a=int(input())\n",
    "l=list()\n",
    "l1=list()       #list of prime numbers\n",
    "l2=list()       #list of composite numbers\n",
    "j=0\n",
    "for j in range(0,a-1,1):\n",
    "    l.append(j+1)\n",
    "print (l)\n",
    "if a==3:\n",
    "    l1.append(2)\n",
    "    l1.append(3)\n",
    "elif a==2:\n",
    "    l1.append(2)\n",
    "elif a<=1:\n",
    "    print(\"No prime numbers\")\n",
    "else:\n",
    "    l1.append(2)\n",
    "    l1.append(3)\n",
    "    for d in range(3,a-1,1):\n",
    "      c=0\n",
    "      for i in range(2,int(l[d]/2),1):\n",
    "            if (l[d]%i==0):\n",
    "                c=c+1\n",
    "            else: return\n",
    "        if c>=1:\n",
    "          l2.append(l[d])\n",
    "        else:\n",
    "          l1.append(l[d])\n",
    "print(\"the list of prime numbers is\",l1)\n",
    "print(\"the list of composite numbers is\",l2)"
   ]
  },
  {
   "cell_type": "code",
   "execution_count": 6,
   "metadata": {},
   "outputs": [
    {
     "name": "stdout",
     "output_type": "stream",
     "text": [
      "prime\n"
     ]
    }
   ],
   "source": [
    "a=int(input())\n",
    "b=int(a/2)\n",
    "c=0\n",
    "for i in range (2,b,1):\n",
    "    if (a%i==0): c=c+1\n",
    "if c>=1: print(\"composite\")\n",
    "else: print(\"prime\")"
   ]
  },
  {
   "cell_type": "code",
   "execution_count": 107,
   "metadata": {},
   "outputs": [
    {
     "name": "stdout",
     "output_type": "stream",
     "text": [
      "8\n"
     ]
    }
   ],
   "source": [
    "L,R=map(int,input().split())    #count of prime numbers in a range\n",
    "count=0\n",
    "if L<=R:\n",
    "    if L==1 and R==1:\n",
    "        count=0\n",
    "    elif L<=2: \n",
    "        count=1\n",
    "    else:\n",
    "        count=0\n",
    "    if L<=2:\n",
    "        a=3\n",
    "    else:\n",
    "        a=L\n",
    "    if R>=a:\n",
    "        for i in range(a,R+1,1):\n",
    "            x=0\n",
    "            for j in range(2,i,1):\n",
    "                if(i%j==0):x=x+1\n",
    "            if x==0: count=count+1\n",
    "            else: count=count+0\n",
    "    print(count)\n",
    "else: print(\"enter proper range\")\n"
   ]
  },
  {
   "cell_type": "code",
   "execution_count": 112,
   "metadata": {},
   "outputs": [
    {
     "name": "stdout",
     "output_type": "stream",
     "text": [
      "1\n"
     ]
    }
   ],
   "source": [
    "N,K=map(int,input().split())\n",
    "l=list(map(int,input().split()))\n",
    "c=-1\n",
    "for i in range(N):\n",
    "    if l[i]==K:\n",
    "        c=c+1\n",
    "print(c)"
   ]
  },
  {
   "cell_type": "code",
   "execution_count": 114,
   "metadata": {},
   "outputs": [
    {
     "name": "stdout",
     "output_type": "stream",
     "text": [
      "16\n"
     ]
    }
   ],
   "source": [
    "n=int(input())\n",
    "i=0\n",
    "j=0\n",
    "while j<=n:\n",
    "    j=2**i\n",
    "    i=i+1\n",
    "print(j)"
   ]
  },
  {
   "cell_type": "code",
   "execution_count": 122,
   "metadata": {},
   "outputs": [
    {
     "name": "stdout",
     "output_type": "stream",
     "text": [
      "2 3 4 5 6 5\n"
     ]
    }
   ],
   "source": [
    "N=int(input())\n",
    "l=list(map(int,input().split()))\n",
    "l2=list()\n",
    "for i in range(0,N-1,2):\n",
    "    l2.append(l[i+1])\n",
    "    l2.append(l[i])\n",
    "if N%2==1: l2.append(l[N-1])\n",
    "print(*l2)"
   ]
  },
  {
   "cell_type": "code",
   "execution_count": 124,
   "metadata": {},
   "outputs": [
    {
     "name": "stdout",
     "output_type": "stream",
     "text": [
      "1\n"
     ]
    }
   ],
   "source": [
    "c=True\n",
    "a=1\n",
    "print(a&c)"
   ]
  },
  {
   "cell_type": "code",
   "execution_count": 155,
   "metadata": {},
   "outputs": [
    {
     "name": "stdout",
     "output_type": "stream",
     "text": [
      "same\n",
      "k\n",
      "krithigakrithiga\n",
      "lower\n",
      "K\n"
     ]
    }
   ],
   "source": [
    "A=\"krithiga\"\n",
    "B=\"krithiga\"\n",
    "if A==B: print(\"same\")\n",
    "else: print(\"not same\")\n",
    "print(A[0])\n",
    "print(A+B)\n",
    "if str.isupper(A[0])==True: print(\"upper\")\n",
    "else: print(\"lower\")\n",
    "print(str.upper(A[0]))"
   ]
  },
  {
   "cell_type": "code",
   "execution_count": 144,
   "metadata": {},
   "outputs": [
    {
     "name": "stdout",
     "output_type": "stream",
     "text": [
      "rkti\n"
     ]
    }
   ],
   "source": [
    "S=str(input())\n",
    "O=str()\n",
    "if len(S)<=10000000:\n",
    "    for i in range(0,len(S)-1,2):\n",
    "        O=O+(S[i+1])\n",
    "        O=O+(S[i])\n",
    "    if len(S)%2==1:\n",
    "        O=O+(S[len(S)-1])\n",
    "    print(O)\n",
    "else: print(\"out of range\")"
   ]
  },
  {
   "cell_type": "code",
   "execution_count": 138,
   "metadata": {},
   "outputs": [
    {
     "name": "stdout",
     "output_type": "stream",
     "text": [
      "S\n"
     ]
    }
   ],
   "source": [
    "A,B=map(str,input().split())\n",
    "if A==B: \n",
    "    print('D')\n",
    "elif A=='R':\n",
    "    if B=='P':print('P')\n",
    "    else:print('R')\n",
    "elif A=='P':\n",
    "    if B=='R':print('P')\n",
    "    else:print('S')\n",
    "elif A=='S':\n",
    "    if B=='R':print('R')\n",
    "    else:print('S')\n",
    "else: print(\"invalid entry\")"
   ]
  },
  {
   "cell_type": "code",
   "execution_count": 140,
   "metadata": {},
   "outputs": [
    {
     "ename": "SyntaxError",
     "evalue": "invalid syntax. Perhaps you forgot a comma? (1480485037.py, line 2)",
     "output_type": "error",
     "traceback": [
      "\u001b[1;36m  Cell \u001b[1;32mIn[140], line 2\u001b[1;36m\u001b[0m\n\u001b[1;33m    if (B<=100000 AND H<=100000):\u001b[0m\n\u001b[1;37m        ^\u001b[0m\n\u001b[1;31mSyntaxError\u001b[0m\u001b[1;31m:\u001b[0m invalid syntax. Perhaps you forgot a comma?\n"
     ]
    }
   ],
   "source": [
    "B,H=map(int,input().split())\n",
    "if (B<=100000 AND H<=100000):\n",
    "    A=(B*H)/2\n",
    "    print(A)\n",
    "else: print(\"enter numbers less than 100000\")"
   ]
  },
  {
   "cell_type": "code",
   "execution_count": 147,
   "metadata": {},
   "outputs": [
    {
     "name": "stdout",
     "output_type": "stream",
     "text": [
      "5\n"
     ]
    }
   ],
   "source": [
    "A,B=map(int,input().split())\n",
    "if A>=B: smaller=B\n",
    "else: smaller=A\n",
    "GCD=-1\n",
    "for i in range (1,smaller+1,1):\n",
    "    if(A%i==0):\n",
    "        if(B%i==0):GCD=i\n",
    "print(GCD) "
   ]
  },
  {
   "cell_type": "code",
   "execution_count": 149,
   "metadata": {},
   "outputs": [
    {
     "name": "stdout",
     "output_type": "stream",
     "text": [
      "no\n"
     ]
    }
   ],
   "source": [
    "A,B,C=map(int,input().split())\n",
    "if A<=100000:\n",
    "    if B<=100000:\n",
    "        if C<=100000:\n",
    "            if A<(B+C):\n",
    "                if B<(A+C):\n",
    "                    if C<(A+B): print(\"yes\")\n",
    "                    else: print(\"no\")\n",
    "                else: print(\"no\")\n",
    "            else: print(\"no\")\n",
    "        else: print(\"C exceeds value 100000\")\n",
    "    else: print(\"B exceeds value 100000\")\n",
    "else: print(\"A exceeds value 100000\")"
   ]
  },
  {
   "cell_type": "code",
   "execution_count": 6,
   "metadata": {},
   "outputs": [
    {
     "name": "stdout",
     "output_type": "stream",
     "text": [
      "21\n"
     ]
    }
   ],
   "source": [
    "S=str(input())\n",
    "a=0\n",
    "for i in (S):\n",
    "    if i.isnumeric():\n",
    "        a=a+int(i)\n",
    "print(a)"
   ]
  },
  {
   "cell_type": "code",
   "execution_count": 50,
   "metadata": {},
   "outputs": [
    {
     "name": "stdout",
     "output_type": "stream",
     "text": [
      "20\n"
     ]
    }
   ],
   "source": [
    "n=int(input())\n",
    "count=0\n",
    "hcount=0\n",
    "for i in range(n):\n",
    "    j=i+1\n",
    "    s1=str(j)\n",
    "    s=list()\n",
    "    for k in (s1):\n",
    "        s.append(int(k))\n",
    "    l=len(s)\n",
    "    for x in range(0,l,1):\n",
    "        if s[x]==s[l-x-1]:\n",
    "            hcount=hcount+1\n",
    "        else:\n",
    "            exit\n",
    "    if hcount>=(len(s)/2):\n",
    "        count=count+1\n",
    "        hcount=0\n",
    "    else:\n",
    "        hcount=0\n",
    "print(count)  "
   ]
  },
  {
   "cell_type": "code",
   "execution_count": 63,
   "metadata": {},
   "outputs": [
    {
     "name": "stdout",
     "output_type": "stream",
     "text": [
      "20\n"
     ]
    }
   ],
   "source": [
    "n=int(input())\n",
    "if n<=9:\n",
    "    count=n\n",
    "else:\n",
    "    count=9\n",
    "    for i in range(10,n+1,1):\n",
    "        num=i\n",
    "        rev_num=0\n",
    "        while num!=0:\n",
    "            rem=num%10\n",
    "            rev_num=rev_num*10+rem\n",
    "            num=num//10\n",
    "        if i==rev_num:\n",
    "            count=count+1\n",
    "        else:\n",
    "            exit\n",
    "print(count)\n"
   ]
  },
  {
   "cell_type": "code",
   "execution_count": 10,
   "metadata": {},
   "outputs": [
    {
     "name": "stdout",
     "output_type": "stream",
     "text": [
      "3\n",
      "<class 'str'>\n"
     ]
    }
   ],
   "source": [
    "s=3\n",
    "b=str(s)\n",
    "print(b)\n",
    "print(type(b))"
   ]
  },
  {
   "cell_type": "code",
   "execution_count": 72,
   "metadata": {},
   "outputs": [
    {
     "name": "stdout",
     "output_type": "stream",
     "text": [
      "987654321 <class 'str'>\n",
      "987654321 <class 'int'>\n"
     ]
    }
   ],
   "source": [
    "num = 123456789\n",
    "tem=str(num)[::-1] ##string splicing - start:stop:step - step -1 indicates start goes to stop and vice versa\n",
    "print(tem,type(tem))\n",
    "tep=int(tem)\n",
    "print(tep,type(tep))\n"
   ]
  },
  {
   "cell_type": "code",
   "execution_count": 80,
   "metadata": {},
   "outputs": [
    {
     "name": "stdout",
     "output_type": "stream",
     "text": [
      "[1]\n",
      "Unsaturated\n"
     ]
    }
   ],
   "source": [
    "n=int(input(n))\n",
    "l=list()\n",
    "tem=n\n",
    "while tem!=0:\n",
    "    l.append(tem%10)\n",
    "    tem=tem//10\n",
    "l=list(set(l))\n",
    "print(l)\n",
    "if len(l)==2:\n",
    "    print(\"Saturated\")\n",
    "else:\n",
    "    print(\"Unsaturated\")"
   ]
  },
  {
   "cell_type": "code",
   "execution_count": 74,
   "metadata": {},
   "outputs": [
    {
     "name": "stdout",
     "output_type": "stream",
     "text": [
      "['d', 'a', 'b', 'c']\n"
     ]
    }
   ],
   "source": [
    "l=['a','b','a','d','b','c']\n",
    "tem=list(set(l))\n",
    "print(tem)"
   ]
  },
  {
   "cell_type": "code",
   "execution_count": 83,
   "metadata": {},
   "outputs": [
    {
     "name": "stdout",
     "output_type": "stream",
     "text": [
      "532\n"
     ]
    }
   ],
   "source": [
    "s=\"hello\"\n",
    "c=0\n",
    "for i in (s):\n",
    "    c=c+ord(i)\n",
    "print(c)"
   ]
  },
  {
   "cell_type": "code",
   "execution_count": 90,
   "metadata": {},
   "outputs": [
    {
     "name": "stdout",
     "output_type": "stream",
     "text": [
      " m Shry\n"
     ]
    }
   ],
   "source": [
    "s='I am Shrey'\n",
    "l=['a','e','i','o','u']\n",
    "for i in (s):\n",
    "    for j in range(len(l)):\n",
    "        if i==l[j]:\n",
    "            s=s.replace(i,'')\n",
    "        elif i==l[j].upper():\n",
    "            s=s.replace(i,'')\n",
    "        else:\n",
    "            exit\n",
    "print(s)\n",
    "#s.replace('a','')\n",
    "#print(s)"
   ]
  },
  {
   "cell_type": "code",
   "execution_count": 89,
   "metadata": {},
   "outputs": [
    {
     "name": "stdout",
     "output_type": "stream",
     "text": [
      "krthga\n",
      "krithiga\n"
     ]
    }
   ],
   "source": [
    "s='krithiga'\n",
    "print(s.replace('i',''))\n",
    "print(s)"
   ]
  },
  {
   "cell_type": "code",
   "execution_count": 95,
   "metadata": {},
   "outputs": [
    {
     "name": "stdout",
     "output_type": "stream",
     "text": [
      "I am\n"
     ]
    }
   ],
   "source": [
    "s=list(map(str,input().split(\" \")))\n",
    "i=0\n",
    "while i<(len(s)-1):\n",
    "    if s[i]==s[i+1]:\n",
    "        s.pop(i+1)\n",
    "        s.pop(i)\n",
    "        i=0\n",
    "    else:\n",
    "        i=i+1\n",
    "print(\" \".join(s))"
   ]
  },
  {
   "cell_type": "code",
   "execution_count": 94,
   "metadata": {},
   "outputs": [
    {
     "name": "stdout",
     "output_type": "stream",
     "text": [
      "[2, 4, 5, 4, 9, 3]\n",
      "[2, 4, 5, 4, 3]\n",
      "[4, 5, 4, 3]\n"
     ]
    }
   ],
   "source": [
    "l=[2, 4, 5, 9, 4, 9, 3]\n",
    "l.remove(9)\n",
    "print(l)\n",
    "l.remove(9)\n",
    "print(l)\n",
    "l.pop(0)\n",
    "print(l)"
   ]
  },
  {
   "cell_type": "code",
   "execution_count": 4,
   "metadata": {},
   "outputs": [
    {
     "name": "stdout",
     "output_type": "stream",
     "text": [
      "Tirk\n"
     ]
    }
   ],
   "source": [
    "s=str(input())\n",
    "l=list()\n",
    "for i in (s):\n",
    "    l.append(i)\n",
    "l=list(reversed(l))\n",
    "s1=\"\".join(l)\n",
    "print(s1.capitalize())"
   ]
  },
  {
   "cell_type": "code",
   "execution_count": 12,
   "metadata": {},
   "outputs": [
    {
     "name": "stdout",
     "output_type": "stream",
     "text": [
      "0\n",
      "you uoy\n"
     ]
    }
   ],
   "source": [
    "s=str(input())                ###   CHECK PALINDROME\n",
    "s=s.lower()\n",
    "l=list(reversed(s))\n",
    "s1=\"\".join(l)\n",
    "if s==s1:\n",
    "    print(1)\n",
    "else:\n",
    "    print(0)"
   ]
  },
  {
   "cell_type": "code",
   "execution_count": null,
   "metadata": {},
   "outputs": [],
   "source": [
    "s=str(input())\n",
    "l=list()\n",
    "for i in (s):\n",
    "    l.append(i)\n",
    "l=list(reversed(l))\n",
    "s1=\"\".join(l)\n",
    "print(s1.capitalize())"
   ]
  },
  {
   "cell_type": "code",
   "execution_count": 17,
   "metadata": {},
   "outputs": [
    {
     "name": "stdout",
     "output_type": "stream",
     "text": [
      "0\n"
     ]
    }
   ],
   "source": [
    "s=str(input())\n",
    "sum=0\n",
    "v=['a','e','i','o','u']\n",
    "for i in s:\n",
    "    for j in range(len(v)):\n",
    "        if i==v[j]:\n",
    "            sum=sum+ord(i)\n",
    "if sum%8==0:\n",
    "    print(1)\n",
    "else:\n",
    "    print(0)"
   ]
  },
  {
   "cell_type": "code",
   "execution_count": 14,
   "metadata": {},
   "outputs": [
    {
     "name": "stdout",
     "output_type": "stream",
     "text": [
      "{'brand': 'Ford', 'model': 'Mustang', 'year': 1964}\n",
      "3\n"
     ]
    }
   ],
   "source": [
    "thisdict = {\n",
    "  \"brand\": \"Ford\",\n",
    "  \"model\": \"Mustang\",\n",
    "  \"year\": 1964\n",
    "}\n",
    "print(thisdict)\n",
    "print(len(thisdict))"
   ]
  },
  {
   "cell_type": "code",
   "execution_count": 51,
   "metadata": {},
   "outputs": [
    {
     "name": "stdout",
     "output_type": "stream",
     "text": [
      "13455431\n",
      "['1', '3', '4', '5', '5', '4', '3', '1']\n",
      "134431\n"
     ]
    }
   ],
   "source": [
    "n=int(input())    #####  REMOVE ADJACENT DUPLICATE NUMBERS\n",
    "n1=str(n)\n",
    "l=list()\n",
    "print(n1)\n",
    "for i in n1:\n",
    "    l.append(i)\n",
    "print(l)\n",
    "for j in range(len(l)):\n",
    "    if j<len(l)-1:\n",
    "        if l[j]==l[j+1]:\n",
    "            l.remove(l[j])\n",
    "            l.remove(l[j])\n",
    "        else:\n",
    "            exit\n",
    "    else:\n",
    "        exit\n",
    "print(\"\".join(l))"
   ]
  },
  {
   "cell_type": "code",
   "execution_count": 57,
   "metadata": {},
   "outputs": [
    {
     "name": "stdout",
     "output_type": "stream",
     "text": [
      "he*lo\n"
     ]
    }
   ],
   "source": [
    "s=str(input())\n",
    "l=list()\n",
    "for i in s:\n",
    "    l.append(i)\n",
    "x=len(l)\n",
    "if x%2==1:\n",
    "    l[int(x/2)]='*'\n",
    "else:\n",
    "    l[int(x/2)]='*'\n",
    "    l[int(x/2)-1]='*'\n",
    "print(\"\".join(l))"
   ]
  },
  {
   "cell_type": "code",
   "execution_count": null,
   "metadata": {},
   "outputs": [],
   "source": [
    "N,M=input().split()\n",
    "N=int(N)\n",
    "M=int(M)\n",
    "print(N*M)"
   ]
  },
  {
   "cell_type": "code",
   "execution_count": 60,
   "metadata": {},
   "outputs": [
    {
     "name": "stdout",
     "output_type": "stream",
     "text": [
      "[1, 3, 4, 5, 4, 3, 2, 3, 4, 5, 6, 7]\n"
     ]
    }
   ],
   "source": [
    "list = [1,2,3,4,5,4,3,2,3,4,5,6,7]\n",
    "list.remove(2)\n",
    "print(list)"
   ]
  },
  {
   "cell_type": "code",
   "execution_count": 29,
   "metadata": {},
   "outputs": [
    {
     "name": "stdout",
     "output_type": "stream",
     "text": [
      "me\n"
     ]
    }
   ],
   "source": [
    "s=str(input())    ##### REMOVE ALL CHARACTERS WHICH OCCUR MORE THAN ONCE\n",
    "s=s.lower()\n",
    "l=list()\n",
    "for i in s:\n",
    "    l.append(i)     #### string conv to list\n",
    "j=0\n",
    "while j<(len(l)-1):\n",
    "    k=j+1\n",
    "    count=1         \n",
    "    temp=l[j]\n",
    "    while k<len(l):\n",
    "        if l[j]==l[k]:\n",
    "            count=count+1\n",
    "        k=k+1\n",
    "    if count>1:\n",
    "        while count>=1:\n",
    "            l.remove(temp)\n",
    "            count=count-1\n",
    "        j=j-1\n",
    "    j=j+1\n",
    "print(\"\".join(l))"
   ]
  },
  {
   "cell_type": "code",
   "execution_count": 35,
   "metadata": {},
   "outputs": [
    {
     "name": "stdout",
     "output_type": "stream",
     "text": [
      "1947\n"
     ]
    }
   ],
   "source": [
    "#s=list(map(str,input().split()))\n",
    "s1=str(input())\n",
    "s1=s1.replace(\".\",\"\")\n",
    "s=s1.split(\" \")\n",
    "l=list()\n",
    "for i in range(len(s)):\n",
    "    if s[i].isnumeric():\n",
    "        l.append(int(s[i]))\n",
    "l.sort()\n",
    "print(l[(len(l)-1)])\n",
    "\n",
    "### India got independence on 15 august 1947. But they were fighting for it for last 90 years."
   ]
  },
  {
   "cell_type": "code",
   "execution_count": 40,
   "metadata": {},
   "outputs": [
    {
     "name": "stdout",
     "output_type": "stream",
     "text": [
      "1\n"
     ]
    }
   ],
   "source": [
    "s=str(input())\n",
    "l=list()\n",
    "set=0\n",
    "for i in s:\n",
    "    l.append(i)\n",
    "if l[0].lower()=='a':\n",
    "    if l[len(l)-1].lower()=='z':\n",
    "        if l[int(len(l)/2)].lower()=='m':\n",
    "            set=1\n",
    "if set==1:\n",
    "    print(1)\n",
    "else:\n",
    "    print(0)"
   ]
  },
  {
   "cell_type": "code",
   "execution_count": 43,
   "metadata": {},
   "outputs": [
    {
     "name": "stdout",
     "output_type": "stream",
     "text": [
      "ABCD efgh IJKL\n"
     ]
    }
   ],
   "source": [
    "s=list(map(str,input().split()))\n",
    "l=list()\n",
    "for i in range(len(s)):\n",
    "    if i%2==0:\n",
    "        l.append(s[i].upper())\n",
    "    else:\n",
    "        l.append(s[i].lower())\n",
    "print(\" \".join(l))"
   ]
  },
  {
   "cell_type": "code",
   "execution_count": 47,
   "metadata": {},
   "outputs": [
    {
     "name": "stdout",
     "output_type": "stream",
     "text": [
      "not pan\n"
     ]
    }
   ],
   "source": [
    "s=str(input())\n",
    "l=list()\n",
    "for i in s:\n",
    "    l.append(i)\n",
    "count=0\n",
    "if len(l)==10:\n",
    "    count=count+1\n",
    "for j in range(0,5,1):\n",
    "    if l[j].isupper():\n",
    "        count=count+1\n",
    "if l[len(l)-1].isupper:\n",
    "    count=count+1\n",
    "for k in range(5,9,1):\n",
    "    if l[k].isnumeric():\n",
    "        if int(l[k])>0:\n",
    "            count=count+1\n",
    "if count==11:\n",
    "    print(\"pan\")\n",
    "else:\n",
    "    print(\"not pan\")"
   ]
  },
  {
   "cell_type": "code",
   "execution_count": 68,
   "metadata": {},
   "outputs": [
    {
     "name": "stdout",
     "output_type": "stream",
     "text": [
      "0\n"
     ]
    }
   ],
   "source": [
    "t1=str(input())        ######   TO CHECK PARANTHESIS BALANCE\n",
    "s=list()\n",
    "for i in t1:\n",
    "    s.append(i)\n",
    "l1=[\"{\",\"(\",\"[\",\"<\"]\n",
    "l2=[\"}\",\")\",\"]\",\">\"]\n",
    "t2=list()\n",
    "flg=0\n",
    "j=0\n",
    "while j<len(s):\n",
    "    if s[j] in l1:\n",
    "        t2.append(s[j])\n",
    "    elif s[j] in l2:\n",
    "        if len(t2)==0:\n",
    "            flg=-1\n",
    "            break\n",
    "        if t2[len(t2)-1]==l1[l2.index(s[j])]:\n",
    "            t2.pop(len(t2)-1)\n",
    "        else:\n",
    "            flg=-1\n",
    "            break\n",
    "    else:\n",
    "        flg=-1\n",
    "    j=j+1    \n",
    "if flg==-1:\n",
    "    print(0)\n",
    "elif len(t2)==0:\n",
    "    print(1)\n",
    "else:\n",
    "    print(0)\n"
   ]
  },
  {
   "cell_type": "code",
   "execution_count": 74,
   "metadata": {},
   "outputs": [
    {
     "name": "stdout",
     "output_type": "stream",
     "text": [
      "Verified Verified abc1 Verified\n"
     ]
    }
   ],
   "source": [
    "N=int(input())\n",
    "l1=list(map(str,input().split()))\n",
    "l2=l1.copy()\n",
    "chk_lst=list()\n",
    "#chk_lst.append(l2[0])\n",
    "#l2[0]=\"Verified\"\n",
    "for i in range(len(l2)):\n",
    "    if l2[i] in chk_lst:\n",
    "        l2[i]=l2[i]+\"1\"\n",
    "    else:\n",
    "        chk_lst.append(l2[i])\n",
    "        l2[i]=\"Verified\"\n",
    "print(\" \".join(l2))"
   ]
  },
  {
   "cell_type": "code",
   "execution_count": null,
   "metadata": {},
   "outputs": [],
   "source": [
    "s=str(input())\n",
    "s1,s2=str(),str()\n",
    "j=1\n",
    "for i in s:\n",
    "    if j%2==1:\n",
    "        s1=s1+i\n",
    "    else:\n",
    "        s2=s2+i\n",
    "    j=j+1\n",
    "print(s1,s2)"
   ]
  },
  {
   "cell_type": "code",
   "execution_count": 78,
   "metadata": {},
   "outputs": [
    {
     "name": "stdout",
     "output_type": "stream",
     "text": [
      "Profile\n"
     ]
    }
   ],
   "source": [
    "S=str(input())\n",
    "T=int(input())\n",
    "P=int(input())\n",
    "l=str()\n",
    "j=1\n",
    "for i in S:\n",
    "    if j%P==0:\n",
    "        if T==1:\n",
    "            l=l+(i.lower())\n",
    "        else:\n",
    "            l=l+(i.upper())\n",
    "    else:\n",
    "        l=l+i\n",
    "    j=j+1\n",
    "print(l)"
   ]
  },
  {
   "cell_type": "code",
   "execution_count": 6,
   "metadata": {},
   "outputs": [
    {
     "name": "stdout",
     "output_type": "stream",
     "text": [
      "['jackie', 'jackie', 'jamie', 'jamie', 'jamie', 'john', 'john', 'john', 'john', 'johnny', 'johnny', 'johnny', 'johnny']\n",
      "['jackie', 'jamie', 'john', 'johnny']\n",
      "[2, 3, 4, 4]\n",
      "john 4\n"
     ]
    }
   ],
   "source": [
    "l=list(map(str,input().split()))      #### CK STRINGS Q.No. 27\n",
    "l.sort()\n",
    "print(l)\n",
    "names=list()\n",
    "votes=list()\n",
    "big=0\n",
    "for i in range(len(l)):\n",
    "    vote=0\n",
    "    if l[i] not in names:\n",
    "        names.append(l[i])\n",
    "        j=i+1\n",
    "        vote=1\n",
    "        while j<len(l):\n",
    "            if l[i]==l[j]:\n",
    "                vote=vote+1\n",
    "            j=j+1\n",
    "        votes.append(vote)\n",
    "        big=max(big,vote)\n",
    "    else:\n",
    "        continue\n",
    "ind=votes.index(big)\n",
    "print(names)\n",
    "print(votes)\n",
    "print(names[ind],votes[ind])\n",
    "   "
   ]
  },
  {
   "cell_type": "code",
   "execution_count": 2,
   "metadata": {},
   "outputs": [
    {
     "name": "stdout",
     "output_type": "stream",
     "text": [
      "The incremented character value is : ]\n"
     ]
    }
   ],
   "source": [
    "   \n",
    "# python code to demonstrate way to \n",
    "# increment character\n",
    " \n",
    "# initializing character\n",
    "ch = 'Z'\n",
    " \n",
    "# Using chr()+ord()\n",
    "# prints P\n",
    "x = chr(ord(ch) + 3)\n",
    " \n",
    "print (\"The incremented character value is : \",end=\"\")\n",
    "print (x)"
   ]
  },
  {
   "cell_type": "code",
   "execution_count": 6,
   "metadata": {},
   "outputs": [
    {
     "name": "stdout",
     "output_type": "stream",
     "text": [
      "abcdefghijklmnopqrstuvwxyzabcdefghijklmnopqrstuvwxyz\n",
      "ABCDEFGHIJKLMNOPQRSTUVWXYZABC\n"
     ]
    }
   ],
   "source": [
    "#s=str(input())\n",
    "import string\n",
    "lowerabc=string.ascii_lowercase+string.ascii_lowercase\n",
    "higherabc=string.ascii_uppercase+string.ascii_uppercase\n",
    "print(lowerabc)\n",
    "print(higherabc)\n"
   ]
  },
  {
   "cell_type": "code",
   "execution_count": 12,
   "metadata": {},
   "outputs": [
    {
     "name": "stdout",
     "output_type": "stream",
     "text": [
      "udgdu\n"
     ]
    }
   ],
   "source": [
    "s=str(input())         #######   LIST CODE THE ALPHABETS TO AFTER 3 CHARACTERS\n",
    "out=str()\n",
    "labc=string.ascii_lowercase+string.ascii_lowercase\n",
    "habc=string.ascii_uppercase+string.ascii_uppercase\n",
    "for i in s:\n",
    "    if i.isupper():\n",
    "        out=out+habc[(habc.index(i)+3)]\n",
    "    elif i.islower():\n",
    "        out=out+labc[(labc.index(i)+3)]\n",
    "    else:\n",
    "        out=out+i\n",
    "print(out)"
   ]
  },
  {
   "cell_type": "code",
   "execution_count": null,
   "metadata": {},
   "outputs": [],
   "source": [
    "s=list(map(str,input().split()))    ######## LIST SORT\n",
    "s.sort()\n",
    "print(\" \".join(s))"
   ]
  },
  {
   "cell_type": "code",
   "execution_count": 25,
   "metadata": {},
   "outputs": [
    {
     "name": "stdout",
     "output_type": "stream",
     "text": [
      "d\n"
     ]
    }
   ],
   "source": [
    "s=str(input())\n",
    "out=list()\n",
    "for i in s:\n",
    "    j=s.index(i)+1\n",
    "    while j<len(s):\n",
    "        if i==s[j]:\n",
    "            if i not in out:\n",
    "                out.append(i)\n",
    "                break\n",
    "        j=j+1\n",
    "if len(out)>0:\n",
    "print(\" \".join(out))"
   ]
  },
  {
   "cell_type": "code",
   "execution_count": 32,
   "metadata": {},
   "outputs": [
    {
     "name": "stdout",
     "output_type": "stream",
     "text": [
      "yes\n"
     ]
    }
   ],
   "source": [
    "s=list(map(str,input().split()))\n",
    "if s[1] in s[0]:\n",
    "    print(\"yes\")\n",
    "else:\n",
    "    print(\"no\",)"
   ]
  },
  {
   "cell_type": "code",
   "execution_count": null,
   "metadata": {},
   "outputs": [],
   "source": [
    "l=list(map(str,input().split()))\n",
    "art=[\"a\",\"an\",\"the\",\"A\",\"A\",\"The\"]\n",
    "out=list()\n",
    "for i in range(len(l)-1):\n",
    "    if i in art:\n",
    "        out.append(l[l.index(i)+1])\n",
    "print(\" \".join(out))"
   ]
  },
  {
   "cell_type": "code",
   "execution_count": null,
   "metadata": {},
   "outputs": [],
   "source": [
    "l=list(map(str,input().split()))\n",
    "print(l)\n",
    "art=[\"a\",\"an\",\"the\",\"A\",\"A\",\"The\"]\n",
    "out=list()\n",
    "for i in range(len(l)-1):\n",
    "    if l[i] in art:\n",
    "        out.append(l[i+1])\n",
    "print(\" \".join(out))"
   ]
  },
  {
   "cell_type": "code",
   "execution_count": 14,
   "metadata": {},
   "outputs": [
    {
     "name": "stdout",
     "output_type": "stream",
     "text": [
      "1\n"
     ]
    }
   ],
   "source": [
    "s=list(map(str,input().split()))\n",
    "s1=s[0].lower()\n",
    "s2=s[1].lower()\n",
    "temp1=s1[::-1]\n",
    "temp2=s2[::-1]\n",
    "l1=list()\n",
    "l2=list()\n",
    "p_flg=0\n",
    "a_flg=0\n",
    "if s1==s1[::-1]:\n",
    "    if s2==s2[::-1]:\n",
    "        p_flg=1\n",
    "for a in s1:\n",
    "    l1.append(a)\n",
    "for b in s2:\n",
    "    l2.append(b)\n",
    "l1.sort()\n",
    "l2.sort()\n",
    "if l1==l2:\n",
    "    a_flg=1\n",
    "print(p_flg and a_flg)"
   ]
  },
  {
   "cell_type": "code",
   "execution_count": 21,
   "metadata": {},
   "outputs": [
    {
     "name": "stdout",
     "output_type": "stream",
     "text": [
      "no\n"
     ]
    }
   ],
   "source": [
    "s=str(input())\n",
    "flg=\"no\"\n",
    "for i in range(len(s)-1):\n",
    "    j=i+1\n",
    "    while j<len(s):\n",
    "        if s[i]==s[j]:\n",
    "            print(s[i],s[j])\n",
    "            flg=\"yes\"\n",
    "            break\n",
    "        j=j+1\n",
    "print(flg)"
   ]
  },
  {
   "cell_type": "code",
   "execution_count": 24,
   "metadata": {},
   "outputs": [
    {
     "name": "stdout",
     "output_type": "stream",
     "text": [
      "1010\n",
      "['1', '0', '1', '0']\n",
      "0\n"
     ]
    }
   ],
   "source": [
    "d=10\n",
    "dbin=format(d,'b')\n",
    "print(dbin)\n",
    "dstr=str(dbin)\n",
    "l=list()\n",
    "for i in dstr:\n",
    "    l.append(i)\n",
    "print(l)\n",
    "c=0\n",
    "for j in range(len(l)):\n",
    "    if l[j]=='1':\n",
    "        c=c+1\n",
    "print(c)"
   ]
  },
  {
   "cell_type": "code",
   "execution_count": 29,
   "metadata": {},
   "outputs": [
    {
     "name": "stdout",
     "output_type": "stream",
     "text": [
      "no\n"
     ]
    }
   ],
   "source": [
    "n=int(input())\n",
    "flg=\"no\"\n",
    "l=list()\n",
    "for i in range(n):\n",
    "    l.append(input())\n",
    "for j in range(n):\n",
    "    if l[j]==l[j-1]:\n",
    "        flg=\"yes\"\n",
    "print(flg)"
   ]
  },
  {
   "cell_type": "code",
   "execution_count": 9,
   "metadata": {},
   "outputs": [
    {
     "name": "stdout",
     "output_type": "stream",
     "text": [
      "2 2\n",
      "yes\n"
     ]
    }
   ],
   "source": [
    "N,K=input().split()\n",
    "N=int(N)\n",
    "K=int(K)\n",
    "print(N,K)\n",
    "flg=\"no\"\n",
    "l=list()\n",
    "c=0\n",
    "for i in range(N):\n",
    "    l.append(input())\n",
    "    if l[i-1]==l[i]:\n",
    "        c=c+1\n",
    "    else:\n",
    "        c=0\n",
    "    if c==K:\n",
    "        flg=\"yes\"      \n",
    "print(flg)"
   ]
  },
  {
   "cell_type": "code",
   "execution_count": 18,
   "metadata": {},
   "outputs": [
    {
     "name": "stdout",
     "output_type": "stream",
     "text": [
      "2\n"
     ]
    }
   ],
   "source": [
    "d=int(input())\n",
    "dbin=format(d,'b')\n",
    "s=str(dbin)\n",
    "i=len(s)\n",
    "c=1\n",
    "while i>0:\n",
    "    if s[i-1]=='1':\n",
    "        print(c)\n",
    "        break\n",
    "    c=c+1\n",
    "    i=i-1\n",
    "\n",
    "\n"
   ]
  },
  {
   "cell_type": "code",
   "execution_count": 22,
   "metadata": {},
   "outputs": [
    {
     "name": "stdout",
     "output_type": "stream",
     "text": [
      "sTrInG\n"
     ]
    }
   ],
   "source": [
    "l=list(map(str,input().split()))\n",
    "s=l[0]\n",
    "n=int(l[1])\n",
    "s1=str()\n",
    "for i in range(len(s)):\n",
    "    if (i+1)%n==0:################# cannot do modulo division for 0\n",
    "        s1=s1+s[i].upper()\n",
    "    else:\n",
    "        s1=s1+s[i]\n",
    "print(s1)"
   ]
  },
  {
   "cell_type": "code",
   "execution_count": 24,
   "metadata": {},
   "outputs": [
    {
     "name": "stdout",
     "output_type": "stream",
     "text": [
      "uvi\n"
     ]
    }
   ],
   "source": [
    "s1,s2=input().split()\n",
    "for i in s1:\n",
    "    if i in s2:\n",
    "        s1=s1.replace(i,\"\")\n",
    "    if s1:\n",
    "        continue\n",
    "    else:\n",
    "        break\n",
    "print(s1)"
   ]
  },
  {
   "cell_type": "code",
   "execution_count": 34,
   "metadata": {},
   "outputs": [
    {
     "name": "stdout",
     "output_type": "stream",
     "text": [
      "5\n",
      "4\n",
      "3\n",
      "2\n",
      "1\n",
      "skeeg\n"
     ]
    }
   ],
   "source": [
    "s=str(input())\n",
    "s2=str()\n",
    "n=len(s)\n",
    "while n>0:\n",
    "    s2=s2+s[n-1]\n",
    "    n=n-1\n",
    "print(s2)\n",
    "###### geeks    skkeg"
   ]
  },
  {
   "cell_type": "code",
   "execution_count": 8,
   "metadata": {},
   "outputs": [
    {
     "name": "stdout",
     "output_type": "stream",
     "text": [
      "valid email\n"
     ]
    }
   ],
   "source": [
    "email='nethaji@gmail.com'\n",
    "e1,e=email.split('@')\n",
    "e2,e3=e.split('.')\n",
    "if (e3=='com') and (e2.isalnum()):\n",
    "    for j in e1:\n",
    "        if (j.isalnum()) or (j in ['_','.']):\n",
    "            continue\n",
    "        else:\n",
    "            print(\"invalid email\")\n",
    "            break\n",
    "    else:\n",
    "        print(\"valid email\")\n",
    "else:\n",
    "    print(\"invalid email\")\n"
   ]
  }
 ],
 "metadata": {
  "kernelspec": {
   "display_name": "Python 3",
   "language": "python",
   "name": "python3"
  },
  "language_info": {
   "codemirror_mode": {
    "name": "ipython",
    "version": 3
   },
   "file_extension": ".py",
   "mimetype": "text/x-python",
   "name": "python",
   "nbconvert_exporter": "python",
   "pygments_lexer": "ipython3",
   "version": "3.12.2"
  }
 },
 "nbformat": 4,
 "nbformat_minor": 2
}
